{
 "cells": [
  {
   "cell_type": "markdown",
   "id": "6f309f96",
   "metadata": {},
   "source": [
    "#### 1.What exactly is [ ]?"
   ]
  },
  {
   "cell_type": "markdown",
   "id": "5e5e1ec3",
   "metadata": {},
   "source": [
    "Ans: \"[ ]\" refers to any empty list"
   ]
  },
  {
   "cell_type": "markdown",
   "id": "d1471ccb",
   "metadata": {},
   "source": [
    "#### 2.In a list of values stored in a variable called spam, how would you assign the value 'hello' as the third value? (Assume [2, 4, 6, 8, 10] are in spam.) "
   ]
  },
  {
   "cell_type": "markdown",
   "id": "ad8ab1ff",
   "metadata": {},
   "source": [
    "Ans: spam[2] = \"hello\""
   ]
  },
  {
   "cell_type": "markdown",
   "id": "5e90ec58",
   "metadata": {},
   "source": [
    "#### Let's pretend the spam includes the list ['a','b','c','d'] for the next three queries.\n",
    "#### 3. What is the value of spam[int(int('3'*2)//11)] ?"
   ]
  },
  {
   "cell_type": "markdown",
   "id": "866ebfe5",
   "metadata": {},
   "source": [
    "Ans: '3'*2 = '33'\n",
    "     int('33') = 33, \n",
    "     , 33//11 = 3\n",
    "     . int(3) = 3\n",
    "     , spam[3] = 'd'\n",
    "     , Therefore spam[int(int('3'*2)//11)] = 'd'"
   ]
  },
  {
   "cell_type": "code",
   "execution_count": 4,
   "id": "b45c1db7",
   "metadata": {},
   "outputs": [
    {
     "name": "stdout",
     "output_type": "stream",
     "text": [
      "spam[int(int('3'*2)//11)] =  d\n"
     ]
    }
   ],
   "source": [
    "spam=['a','b','c','d']\n",
    "print(\"spam[int(int('3'*2)//11)] = \", spam[int(int('3'*2)//11)] )"
   ]
  },
  {
   "cell_type": "markdown",
   "id": "c6d5b0d0",
   "metadata": {},
   "source": [
    "#### 4. What is the value of spam[-1]?"
   ]
  },
  {
   "cell_type": "markdown",
   "id": "aded7f8b",
   "metadata": {},
   "source": [
    "Ans: List supports negative indexing, -1 refers to last index of the list so spam[-1] = 'd'"
   ]
  },
  {
   "cell_type": "code",
   "execution_count": 5,
   "id": "3d7be861",
   "metadata": {},
   "outputs": [
    {
     "name": "stdout",
     "output_type": "stream",
     "text": [
      "spam[-1] =  d\n"
     ]
    }
   ],
   "source": [
    "spam=['a','b','c','d']\n",
    "print(\"spam[-1] = \", spam[-1] )"
   ]
  },
  {
   "cell_type": "markdown",
   "id": "88418c71",
   "metadata": {},
   "source": [
    "#### 5. What is the value of spam[:2]?"
   ]
  },
  {
   "cell_type": "markdown",
   "id": "a7077e43",
   "metadata": {},
   "source": [
    "Ans: spam[:2] refers to spam[0:2] which gives the values of the list in indexes from 0 to 1 as 2 is excluded"
   ]
  },
  {
   "cell_type": "code",
   "execution_count": 6,
   "id": "bfc0dc1c",
   "metadata": {},
   "outputs": [
    {
     "name": "stdout",
     "output_type": "stream",
     "text": [
      "['a', 'b']\n"
     ]
    }
   ],
   "source": [
    "print(spam[:2])"
   ]
  },
  {
   "cell_type": "markdown",
   "id": "3f3c10b4",
   "metadata": {},
   "source": [
    "#### Let's pretend bacon has the list [3.14,'cat',11,'cat',True] for the next three question"
   ]
  },
  {
   "cell_type": "markdown",
   "id": "c01e5bcf",
   "metadata": {},
   "source": [
    "#### 6. What is the value of bacon.index('cat')?"
   ]
  },
  {
   "cell_type": "markdown",
   "id": "5e7b99ad",
   "metadata": {},
   "source": [
    "Ans: bacon.index('cat') gives the index of the 'cat' in the bacon list"
   ]
  },
  {
   "cell_type": "code",
   "execution_count": 10,
   "id": "e0ac81e7",
   "metadata": {},
   "outputs": [
    {
     "data": {
      "text/plain": [
       "1"
      ]
     },
     "execution_count": 10,
     "metadata": {},
     "output_type": "execute_result"
    }
   ],
   "source": [
    "bacon = [3.14,'cat',11,'cat',True]\n",
    "bacon.index('cat')"
   ]
  },
  {
   "cell_type": "markdown",
   "id": "746a294f",
   "metadata": {},
   "source": [
    "#### 7. How does bacon.append(99) change the look of the list value in bacon?"
   ]
  },
  {
   "cell_type": "markdown",
   "id": "f360eac6",
   "metadata": {},
   "source": [
    "Ans: bacon.append(99) adds the value 99 as last value of the list"
   ]
  },
  {
   "cell_type": "code",
   "execution_count": 12,
   "id": "a97c15af",
   "metadata": {},
   "outputs": [
    {
     "name": "stdout",
     "output_type": "stream",
     "text": [
      "[3.14, 'cat', 11, 'cat', True, 99, 99]\n"
     ]
    }
   ],
   "source": [
    "bacon.append(99)\n",
    "print(bacon)"
   ]
  },
  {
   "cell_type": "markdown",
   "id": "fedd063e",
   "metadata": {},
   "source": [
    "#### 8. How does bacon.remove('cat') change the look of the list in bacon?"
   ]
  },
  {
   "cell_type": "markdown",
   "id": "ddf16c6b",
   "metadata": {},
   "source": [
    "Ans: bacon.remove('cat') removes the first occurance of 'cat' value from the list"
   ]
  },
  {
   "cell_type": "code",
   "execution_count": 13,
   "id": "2256f3ed",
   "metadata": {},
   "outputs": [
    {
     "name": "stdout",
     "output_type": "stream",
     "text": [
      "[3.14, 11, 'cat', True, 99, 99]\n"
     ]
    }
   ],
   "source": [
    "bacon.remove('cat')\n",
    "print(bacon)"
   ]
  },
  {
   "cell_type": "markdown",
   "id": "f73e8ae2",
   "metadata": {},
   "source": [
    "#### 9. what are the list concatenation and list replication operations? "
   ]
  },
  {
   "cell_type": "markdown",
   "id": "ae1d6dee",
   "metadata": {},
   "source": [
    "Ans: The operator for list concatenation is `+`, the operator for replication is `*`"
   ]
  },
  {
   "cell_type": "markdown",
   "id": "eb91c821",
   "metadata": {},
   "source": [
    "#### 10. what is the difference between the list method append() and insert()?"
   ]
  },
  {
   "cell_type": "markdown",
   "id": "6e9c2488",
   "metadata": {},
   "source": [
    "Ans: append() method will add the values at the end of the list, whereas with insert() method we can add the values at anywhere in the list"
   ]
  },
  {
   "cell_type": "markdown",
   "id": "e2653232",
   "metadata": {},
   "source": [
    "#### 11. What are the two methods for removing items from a list?"
   ]
  },
  {
   "cell_type": "markdown",
   "id": "df445b1d",
   "metadata": {},
   "source": [
    "Ans: The `del` statement and the `remove()` method are two ways to remove values from a list"
   ]
  },
  {
   "cell_type": "markdown",
   "id": "d446730f",
   "metadata": {},
   "source": [
    "#### 12. Describe how list values and string values are identical."
   ]
  },
  {
   "cell_type": "markdown",
   "id": "bf06109a",
   "metadata": {},
   "source": [
    "Ans: list and string values are indexed and can be accessed using a for loop."
   ]
  },
  {
   "cell_type": "markdown",
   "id": "5f50a5ea",
   "metadata": {},
   "source": [
    "#### 13. What's the difference between tuples and lists?"
   ]
  },
  {
   "cell_type": "markdown",
   "id": "2a9aeae4",
   "metadata": {},
   "source": [
    "Ans: A list is a mutable datatype, whereas a tuple is immuatable datatype"
   ]
  },
  {
   "cell_type": "markdown",
   "id": "b56e27cf",
   "metadata": {},
   "source": [
    "#### 14. How do you type a tuple value that only contains the integer 42?"
   ]
  },
  {
   "cell_type": "code",
   "execution_count": 15,
   "id": "ede2dcc7",
   "metadata": {},
   "outputs": [
    {
     "name": "stdout",
     "output_type": "stream",
     "text": [
      "<class 'tuple'>\n"
     ]
    }
   ],
   "source": [
    "tuple1 = (42,)\n",
    "print(type(tuple1))"
   ]
  },
  {
   "cell_type": "markdown",
   "id": "ce91fded",
   "metadata": {},
   "source": [
    "#### 15. How do you get a list value's tuple form? How do you get a tuple value's list form?"
   ]
  },
  {
   "cell_type": "markdown",
   "id": "091311b8",
   "metadata": {},
   "source": [
    "Ans: The tuple() and list() functions, respectively are used to convert a list to a tuple and vice versa"
   ]
  },
  {
   "cell_type": "markdown",
   "id": "91b0b3e0",
   "metadata": {},
   "source": [
    "#### 16. Variables that \"contain\" list values are not necessarily lists themselves. Instead, what do they contain?"
   ]
  },
  {
   "cell_type": "markdown",
   "id": "1955d8da",
   "metadata": {},
   "source": [
    "Ans: We can have a list inside a tuple and dictionary."
   ]
  },
  {
   "cell_type": "markdown",
   "id": "9095cb1c",
   "metadata": {},
   "source": []
  },
  {
   "cell_type": "markdown",
   "id": "d3b0e676",
   "metadata": {},
   "source": [
    "#### 17. How do you distinguish between copy.copy() and copy.deepcopy()?"
   ]
  },
  {
   "cell_type": "markdown",
   "id": "5d98b3fe",
   "metadata": {},
   "source": [
    "Ans: The `copy.copy()` function will do a shallow copy of a list, while the `copy.deepcopy()` function will do a deep copy of a list."
   ]
  }
 ],
 "metadata": {
  "kernelspec": {
   "display_name": "Python 3 (ipykernel)",
   "language": "python",
   "name": "python3"
  },
  "language_info": {
   "codemirror_mode": {
    "name": "ipython",
    "version": 3
   },
   "file_extension": ".py",
   "mimetype": "text/x-python",
   "name": "python",
   "nbconvert_exporter": "python",
   "pygments_lexer": "ipython3",
   "version": "3.9.7"
  }
 },
 "nbformat": 4,
 "nbformat_minor": 5
}
