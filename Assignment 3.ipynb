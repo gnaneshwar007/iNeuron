{
 "cells": [
  {
   "cell_type": "markdown",
   "id": "cdc3cd87",
   "metadata": {},
   "source": [
    "#### 1. Why are functions advantageous to have in your programs?"
   ]
  },
  {
   "cell_type": "markdown",
   "id": "4949a2d9",
   "metadata": {},
   "source": [
    "Ans: A Function once defined can be used anywhere we want to use the part of the code this will make the code reusable."
   ]
  },
  {
   "cell_type": "markdown",
   "id": "62fabc40",
   "metadata": {},
   "source": [
    "#### 2. When does the code in a function run: when it's specified or when it's called?"
   ]
  },
  {
   "cell_type": "markdown",
   "id": "0ef83508",
   "metadata": {},
   "source": [
    "Ans: The code in a function executes when the function is called"
   ]
  },
  {
   "cell_type": "markdown",
   "id": "f85b2700",
   "metadata": {},
   "source": [
    "#### 3. What statement creates a function?"
   ]
  },
  {
   "cell_type": "markdown",
   "id": "eaa91063",
   "metadata": {},
   "source": [
    "Ans: The \"def\" statement creates a function"
   ]
  },
  {
   "cell_type": "markdown",
   "id": "6f7f1071",
   "metadata": {},
   "source": [
    "#### 4. What is the difference between a function and a function call?"
   ]
  },
  {
   "cell_type": "markdown",
   "id": "6d39d6f1",
   "metadata": {},
   "source": [
    "Ans: Function is defined using \"def\" statement where the code is written, later we can call the function using the name of \n",
    "    the function which will execute the function and give output."
   ]
  },
  {
   "cell_type": "markdown",
   "id": "ecca0c76",
   "metadata": {},
   "source": [
    "#### 5. How many global scopes are there in a Python program? How many local scopes?"
   ]
  },
  {
   "cell_type": "markdown",
   "id": "bfaf3d2a",
   "metadata": {},
   "source": [
    "Ans: There is only one global scope but there is a local scope inside every function"
   ]
  },
  {
   "cell_type": "markdown",
   "id": "8e9cd6cb",
   "metadata": {},
   "source": [
    "#### 6. What happens to variables in a local scope when the function call returns?"
   ]
  },
  {
   "cell_type": "markdown",
   "id": "ad25f416",
   "metadata": {},
   "source": [
    "Ans: When a function returns all the variables in it are forgotten as they are in local scope of the function"
   ]
  },
  {
   "cell_type": "markdown",
   "id": "2d14a024",
   "metadata": {},
   "source": [
    "#### 7. What is the concept of a return value? Is it possible to have a return value in an expression?"
   ]
  },
  {
   "cell_type": "markdown",
   "id": "cb87f99c",
   "metadata": {},
   "source": [
    "Return value is the value returned by function when it is called, we can have return value in an expression"
   ]
  },
  {
   "cell_type": "markdown",
   "id": "eb6dd8bf",
   "metadata": {},
   "source": [
    "#### 8. If a function does not have a return statement, what is the return value of a call to that function?"
   ]
  },
  {
   "cell_type": "markdown",
   "id": "41600f0c",
   "metadata": {},
   "source": [
    "Ans: None"
   ]
  },
  {
   "cell_type": "markdown",
   "id": "93726131",
   "metadata": {},
   "source": [
    "#### 9. How do you make a function variable refer to the global variable?"
   ]
  },
  {
   "cell_type": "markdown",
   "id": "f8b857c1",
   "metadata": {},
   "source": [
    "By adding \"global\" in front of the function variable we can make it a global variable"
   ]
  },
  {
   "cell_type": "markdown",
   "id": "9e9edf7d",
   "metadata": {},
   "source": [
    "#### 10. What is the data type of None?"
   ]
  },
  {
   "cell_type": "markdown",
   "id": "734b5e6c",
   "metadata": {},
   "source": [
    "Ans: NoneType"
   ]
  },
  {
   "cell_type": "markdown",
   "id": "776af91b",
   "metadata": {},
   "source": [
    "#### 11. What does the sentence import areallyourpetsnamederic do?"
   ]
  },
  {
   "cell_type": "markdown",
   "id": "e5f5bc3a",
   "metadata": {},
   "source": [
    "Ans: It imports the module areallyourpetsnamederic\""
   ]
  },
  {
   "cell_type": "markdown",
   "id": "da9b67f8",
   "metadata": {},
   "source": [
    "#### 12. If you had a bacon() feature in a spam module, what would you call it after importing spam?"
   ]
  },
  {
   "cell_type": "markdown",
   "id": "5cbcd382",
   "metadata": {},
   "source": [
    "Ans: spam.bacon()"
   ]
  },
  {
   "cell_type": "markdown",
   "id": "a3bf3150",
   "metadata": {},
   "source": [
    "#### 13. What can you do to save a programme from crashing if it encounters an error?"
   ]
  },
  {
   "cell_type": "markdown",
   "id": "d92864e0",
   "metadata": {},
   "source": [
    "Ans: We can use \"try\" and \"except\" feature where the code in \"except\" block gets executed when an error occurs in \"try\" block"
   ]
  },
  {
   "cell_type": "markdown",
   "id": "d4ea2b21",
   "metadata": {},
   "source": [
    "#### 14. What is the purpose of the try clause? What is the purpose of the except clause?"
   ]
  },
  {
   "cell_type": "markdown",
   "id": "dd2ffce8",
   "metadata": {},
   "source": [
    "Ans: The code in \"except\" block gets executed when an error occurs in \"try\" block"
   ]
  }
 ],
 "metadata": {
  "kernelspec": {
   "display_name": "Python 3 (ipykernel)",
   "language": "python",
   "name": "python3"
  },
  "language_info": {
   "codemirror_mode": {
    "name": "ipython",
    "version": 3
   },
   "file_extension": ".py",
   "mimetype": "text/x-python",
   "name": "python",
   "nbconvert_exporter": "python",
   "pygments_lexer": "ipython3",
   "version": "3.9.7"
  }
 },
 "nbformat": 4,
 "nbformat_minor": 5
}
