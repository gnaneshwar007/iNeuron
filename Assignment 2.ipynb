{
 "cells": [
  {
   "cell_type": "markdown",
   "id": "d761e5e9",
   "metadata": {},
   "source": [
    "#### 1.What are the two values of the boolean data types? how do you write them ?\n",
    "Ans: True and False are two values of the boolen data types with capital T and F."
   ]
  },
  {
   "cell_type": "markdown",
   "id": "66e8fb2a",
   "metadata": {},
   "source": [
    "#### 2. What are the three different types of Boolean operators?\n",
    "\n",
    "Ans: 'and', 'or' and 'not' are the three Boolean operators."
   ]
  },
  {
   "cell_type": "markdown",
   "id": "7987149e",
   "metadata": {},
   "source": [
    "#### 3. Make a list of each Boolean operator&#39;s truth tables (i.e. every possible combination of Boolean values for the operator and what it evaluate) ?\n",
    "\n",
    "Ans: \n",
    "#### Truth Table for and operaotor\n",
    "True and True is True  \n",
    "True and False is False  \n",
    "False and True is False  \n",
    "False and False is False\n",
    "#### Truth Table for or operaotor\n",
    "True or True is True  \n",
    "True or False is True  \n",
    "False or True is True  \n",
    "False or False is False  \n",
    "#### Truth Table for not operaotor\n",
    "not True is False  \n",
    "not False is True"
   ]
  },
  {
   "cell_type": "markdown",
   "id": "9c7318fb",
   "metadata": {},
   "source": [
    "#### 4. What are the values of the following expressions ?\n",
    "Ans: \n",
    "(5 > 4) and (3 == 5) = False  \n",
    "not (5 > 4) = False  \n",
    "(5 > 4) or (3 == 5) = True  \n",
    "not ((5 > 4) or (3 == 5)) = False    \n",
    "(True and True) and (True == False) = False  \n",
    "(not False) or (not True) = True"
   ]
  },
  {
   "cell_type": "markdown",
   "id": "b0d0e6ec",
   "metadata": {},
   "source": [
    "#### 5. What are the six comparison operators?\n",
    "Ans: The Six comparision operators in python are:  \n",
    "'==' , '!=' , '<' , '>' , '<=' , '=>'"
   ]
  },
  {
   "cell_type": "markdown",
   "id": "aeefb135",
   "metadata": {},
   "source": [
    "#### 6. How do you tell the difference between the equal to and assignment operators?Describe a condition and when you would use one ? \n",
    "Ans: '==' isthe equal to operator that compares two values and evaluates a Boolean, while '='is the assignment operator that stores a value in a variable."
   ]
  },
  {
   "cell_type": "code",
   "execution_count": 4,
   "id": "7d96cbfe",
   "metadata": {},
   "outputs": [
    {
     "name": "stdout",
     "output_type": "stream",
     "text": [
      "True\n"
     ]
    }
   ],
   "source": [
    "i=2 # Assignment operator\n",
    "if i==2: # Comparision Operator\n",
    "    print(i==2)  "
   ]
  },
  {
   "cell_type": "markdown",
   "id": "42361118",
   "metadata": {},
   "source": [
    "#### 7. Identify the three blocks in this code:\n",
    "spam = 0  \n",
    "if spam == 10:  \n",
    "print('eggs')  \n",
    "if spam > 5:  \n",
    "print('bacon')  \n",
    "else:  \n",
    "print('ham')  \n",
    "print('spam')  \n",
    "print('spam')\n",
    "\n",
    "Ans:"
   ]
  },
  {
   "cell_type": "code",
   "execution_count": 5,
   "id": "81258432",
   "metadata": {},
   "outputs": [
    {
     "name": "stdout",
     "output_type": "stream",
     "text": [
      "ham\n",
      "spam\n",
      "spam\n"
     ]
    }
   ],
   "source": [
    "spam = 0  \n",
    "if spam == 10:  \n",
    "    print('eggs')  # block #1\n",
    "if spam > 5:  \n",
    "    print('bacon')  # block #2\n",
    "else:  \n",
    "    print('ham')  # block #3\n",
    "print('spam')  \n",
    "print('spam')"
   ]
  },
  {
   "cell_type": "markdown",
   "id": "7339b606",
   "metadata": {},
   "source": [
    "#### 8. Write code that prints Hello if 1 is stored in spam, prints Howdy if 2 is stored in spam, and prints Greetings! if anything else is stored in spam.\n",
    "Ans:"
   ]
  },
  {
   "cell_type": "code",
   "execution_count": 6,
   "id": "58e54523",
   "metadata": {},
   "outputs": [
    {
     "name": "stdout",
     "output_type": "stream",
     "text": [
      "Hello\n",
      "Howdy\n",
      "Greetings\n"
     ]
    }
   ],
   "source": [
    "def func(spam):\n",
    "    if spam==1:\n",
    "        print('Hello')\n",
    "    elif spam==2:\n",
    "        print('Howdy')\n",
    "    else:\n",
    "        print('Greetings')\n",
    "        \n",
    "func(1) \n",
    "func(2)\n",
    "func(3)"
   ]
  },
  {
   "cell_type": "markdown",
   "id": "83562c14",
   "metadata": {},
   "source": [
    "#### 9.If your programme is stuck in an endless loop, what keys you’ll press?\n",
    "Ans: To stop the loop we have to press 'Ctrl-c'."
   ]
  },
  {
   "cell_type": "markdown",
   "id": "5216fbbb",
   "metadata": {},
   "source": [
    "#### 10. How can you tell the difference between break and continue?\n",
    "Ans: The 'break' statement will move the execution outside the loop, whereas the 'continue' statement will move the execution to the start of the loop."
   ]
  },
  {
   "cell_type": "markdown",
   "id": "e1983637",
   "metadata": {},
   "source": [
    "#### 11. In a for loop, what is the difference between range(10), range(0, 10), and range(0, 10, 1)?\n",
    "Ans: \n",
    "The range(10) loops from 0 to 9  \n",
    "The range (0,10) explicitly tells the loop to start at 0  \n",
    "The range(0,10,1) explicitly tells the loop to increase the variable by 1 on each iteration   "
   ]
  },
  {
   "cell_type": "markdown",
   "id": "0e32fd9c",
   "metadata": {},
   "source": [
    "#### 12. Write a short program that prints the numbers 1 to 10 using a for loop. Then write an equivalent program that prints the numbers 1 to 10 using a while loop ? \n",
    "Ans:  "
   ]
  },
  {
   "cell_type": "code",
   "execution_count": 7,
   "id": "7afded6a",
   "metadata": {},
   "outputs": [
    {
     "name": "stdout",
     "output_type": "stream",
     "text": [
      "Using For Loop\n",
      "1\n",
      "\n",
      "2\n",
      "\n",
      "3\n",
      "\n",
      "4\n",
      "\n",
      "5\n",
      "\n",
      "6\n",
      "\n",
      "7\n",
      "\n",
      "8\n",
      "\n",
      "9\n",
      "\n",
      "10\n",
      "\n",
      "\n",
      "\n",
      "Using While Loop\n",
      "1\n",
      "\n",
      "2\n",
      "\n",
      "3\n",
      "\n",
      "4\n",
      "\n",
      "5\n",
      "\n",
      "6\n",
      "\n",
      "7\n",
      "\n",
      "8\n",
      "\n",
      "9\n",
      "\n",
      "10\n",
      "\n"
     ]
    }
   ],
   "source": [
    "print('Using For Loop') \n",
    "for i in range(1,11):\n",
    "    print(str(i) + '\\n')\n",
    "print('\\n')\n",
    "print('Using While Loop') \n",
    "i=1\n",
    "while i<=10:\n",
    "    print(str(i) + '\\n')\n",
    "    i+=1"
   ]
  },
  {
   "cell_type": "markdown",
   "id": "b7df3731",
   "metadata": {},
   "source": [
    "#### 13. If you had a function named bacon() inside a module named spam, how would you call it after importing spam ?\n",
    "Ans: spam.bacon()"
   ]
  }
 ],
 "metadata": {
  "kernelspec": {
   "display_name": "Python 3 (ipykernel)",
   "language": "python",
   "name": "python3"
  },
  "language_info": {
   "codemirror_mode": {
    "name": "ipython",
    "version": 3
   },
   "file_extension": ".py",
   "mimetype": "text/x-python",
   "name": "python",
   "nbconvert_exporter": "python",
   "pygments_lexer": "ipython3",
   "version": "3.9.7"
  }
 },
 "nbformat": 4,
 "nbformat_minor": 5
}
